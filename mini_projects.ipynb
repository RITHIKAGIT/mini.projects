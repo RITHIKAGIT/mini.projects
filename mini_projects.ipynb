{
  "nbformat": 4,
  "nbformat_minor": 0,
  "metadata": {
    "colab": {
      "provenance": [],
      "authorship_tag": "ABX9TyOVm9heeqd/Ieje9SnyGqxr",
      "include_colab_link": true
    },
    "kernelspec": {
      "name": "python3",
      "display_name": "Python 3"
    },
    "language_info": {
      "name": "python"
    }
  },
  "cells": [
    {
      "cell_type": "markdown",
      "metadata": {
        "id": "view-in-github",
        "colab_type": "text"
      },
      "source": [
        "<a href=\"https://colab.research.google.com/github/RITHIKAGIT/mini.projects/blob/main/mini_projects.ipynb\" target=\"_parent\"><img src=\"https://colab.research.google.com/assets/colab-badge.svg\" alt=\"Open In Colab\"/></a>"
      ]
    },
    {
      "cell_type": "markdown",
      "source": [
        "MADLIBS: is a game where u basically fill the crt words in the blanks\n",
        "\n",
        "now we are gonna recreate this projects in python using string concatination\n",
        "\n",
        "string concatination means to put strings together\n",
        "\n",
        "lets say we wanna create a string that says \"subscribe to ______\"\n",
        "\n",
        "youtuber = \"Rahul\"#some string variable\n",
        "\n",
        "a few ways to do this\n",
        "\n",
        "print(\"subscribe to\"+youtuber)\n",
        "\n",
        "print(\"subscribe to{}\".formate(youtuber))\n",
        "\n",
        "print(f\"subscribe to{youtuber}\")#f string"
      ],
      "metadata": {
        "id": "ZzGiKXCPHCCQ"
      }
    },
    {
      "cell_type": "code",
      "execution_count": null,
      "metadata": {
        "colab": {
          "base_uri": "https://localhost:8080/"
        },
        "id": "P9Y3gz-tEtvc",
        "outputId": "7ba2c619-7a8f-4dea-f799-94da18221435"
      },
      "outputs": [
        {
          "output_type": "stream",
          "name": "stdout",
          "text": [
            "adjective: amazing\n",
            "verb: fly\n",
            "verb: jump\n",
            "famous person: spiderman\n",
            "computer program is so amazing! It makes me so excited all the time because I love to fly. Stay hydrated and jump like you are spiderman!\n"
          ]
        }
      ],
      "source": [
        "adj = input(\"adjective: \")\n",
        "verb1 = input(\"verb: \")\n",
        "verb2 = input(\"verb: \")\n",
        "famous_person = input(\"famous person: \")\n",
        "madlib = f\"computer program is so {adj}! It makes me so excited all the time because I love to {verb1}. Stay hydrated and {verb2} like you are {famous_person}!\"\n",
        "print(madlib)"
      ]
    },
    {
      "cell_type": "markdown",
      "source": [
        "Guess the number (computer's turn):  we r gonna make computer generate a number by itself and v have to find it.\n",
        "\n",
        "\n"
      ],
      "metadata": {
        "id": "fsy2ixTTJ0Ay"
      }
    },
    {
      "cell_type": "code",
      "source": [
        "import random\n",
        "def guess(x): #define a function guess and x as a peramenter\n",
        "  random_number = random.randint(1,x)\n",
        "  guess = 0\n",
        "  while guess != random_number:\n",
        "    guess = int(input(f\"guess a number between 1 and {x}: \"))\n",
        "    if guess < random_number:\n",
        "      print(\"sorry, guess again. Too Low.\")\n",
        "    elif guess > random_number:\n",
        "      print(\"sorry,guess again. Too High\")\n",
        "\n",
        "  print(f\"yay,congrats. you have guessed the number {random_number}correctly!!\")\n",
        "\n",
        "guess(10)\n"
      ],
      "metadata": {
        "colab": {
          "base_uri": "https://localhost:8080/"
        },
        "id": "SQifpOYRI-GT",
        "outputId": "f59f5767-02d9-451f-b5fb-1d94413cd391"
      },
      "execution_count": null,
      "outputs": [
        {
          "output_type": "stream",
          "name": "stdout",
          "text": [
            "guess a number between 1 and 10: 8\n",
            "sorry,guess again. Too High\n",
            "guess a number between 1 and 10: 5\n",
            "sorry,guess again. Too High\n",
            "guess a number between 1 and 10: 3\n",
            "sorry, guess again. Too Low.\n",
            "guess a number between 1 and 10: 4\n",
            "yay,congrats. you have guessed the number 4correctly!!\n"
          ]
        }
      ]
    },
    {
      "cell_type": "markdown",
      "source": [
        "Guess the number (our's turn): we r gonna give a sceret number and make computer find it out."
      ],
      "metadata": {
        "id": "ZT3xb5wfiOk0"
      }
    },
    {
      "cell_type": "code",
      "source": [
        "def computer_guess(x):\n",
        "  low = 1\n",
        "  high = x\n",
        "  feedback = \"\"\n",
        "  while feedback != \"c\": # c - correct\n",
        "    guess = random.randint(low,high)\n",
        "    feedback = input(f\"is {guess} too hig(H), too low (L), or correct (C)??\").lower()\n",
        "    if feedback == \"h\":\n",
        "      high = guess - 1\n",
        "    elif feedback == \"l\":\n",
        "      low + guess +1\n",
        "  print(f\"yay! the computer guess you number, {guess}, correctly!\")\n",
        "computer_guess(10)"
      ],
      "metadata": {
        "colab": {
          "base_uri": "https://localhost:8080/"
        },
        "id": "fcstFudpje9M",
        "outputId": "639196af-e3af-42fa-ec2d-16f831cbb3a3"
      },
      "execution_count": 10,
      "outputs": [
        {
          "output_type": "stream",
          "name": "stdout",
          "text": [
            "is 1 too hig(H), too low (L), or correct (C)??l\n",
            "is 5 too hig(H), too low (L), or correct (C)??l\n",
            "is 8 too hig(H), too low (L), or correct (C)??h\n",
            "is 3 too hig(H), too low (L), or correct (C)??l\n",
            "is 1 too hig(H), too low (L), or correct (C)??l\n",
            "is 1 too hig(H), too low (L), or correct (C)??l\n",
            "is 6 too hig(H), too low (L), or correct (C)??c\n",
            "yay! the computer guess you number, 6, correctly!\n"
          ]
        }
      ]
    },
    {
      "cell_type": "markdown",
      "source": [
        "ROCK PAPER SCISSORS:"
      ],
      "metadata": {
        "id": "1iCHoKBsrK2g"
      }
    },
    {
      "cell_type": "code",
      "source": [
        "import random\n",
        "def play():\n",
        "  user = input(\"whats ur choice ??? 'r' for rock, 'p' for paper, 's' for scissors\\n\")\n",
        "  computer = random.choice(['r','p','s'])\n",
        "\n",
        "  if user == computer:\n",
        "    return 'it is a tie'\n",
        "    # r>s , s>p , p>r\n",
        "  if is_win(user,computer):\n",
        "    return 'you won!'\n",
        "\n",
        "  return 'you lost!'\n",
        "\n",
        "def is_win(player, opponent):\n",
        "  #return true if player wins\n",
        "  # r>s , s>p , p>r\n",
        "  if(player == 'r' and opponent == 's') or (player == 's' and opponent == 'p') or (player == 'p' and opponent == 'r'):\n",
        "     return True\n",
        "result = play()\n",
        "print(result)"
      ],
      "metadata": {
        "id": "gEbDk8XtrTjk",
        "colab": {
          "base_uri": "https://localhost:8080/"
        },
        "outputId": "e848f0e3-ccb8-446a-ebd4-002010af9b22"
      },
      "execution_count": 13,
      "outputs": [
        {
          "output_type": "stream",
          "name": "stdout",
          "text": [
            "whats ur choice ??? 'r' for rock, 'p' for paper, 's' for scissors\n",
            "s\n",
            "you won!\n"
          ]
        }
      ]
    },
    {
      "cell_type": "markdown",
      "source": [
        "generate passward"
      ],
      "metadata": {
        "id": "HwD5SnuNByG-"
      }
    },
    {
      "cell_type": "code",
      "source": [
        "import random\n",
        "password_length = int(input(\"enter the length of password\"))\n",
        "s=\"abcdefghijklmnopqrstuvwxyz01234567890ABCDEFGHIJKLMNOPQRSTUVWXYZ!@#$%^&*()?\"\n",
        "p = \"\".join(random.sample(s,password_length ))\n",
        "print(p)"
      ],
      "metadata": {
        "colab": {
          "base_uri": "https://localhost:8080/"
        },
        "id": "H7jc2FJ60f02",
        "outputId": "5ad12ca3-bf25-4e1e-b138-8be5b031a12b"
      },
      "execution_count": 17,
      "outputs": [
        {
          "output_type": "stream",
          "name": "stdout",
          "text": [
            "enter the length of password14\n",
            "e8fOmHt3)hx20^\n"
          ]
        }
      ]
    }
  ]
}